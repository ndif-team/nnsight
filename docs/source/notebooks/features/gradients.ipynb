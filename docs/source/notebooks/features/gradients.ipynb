{
 "cells": [
  {
   "cell_type": "markdown",
   "metadata": {},
   "source": [
    "# Gradients"
   ]
  },
  {
   "cell_type": "markdown",
   "metadata": {},
   "source": [
    "NNsight supports performing and intervening on backwards passes, which enables \"get\" and \"set\" operations on gradients.\n",
    "\n",
    "### General usage:\n",
    "```\n",
    "with M.trace(\"hi\"):\n",
    "\n",
    "  # Grab values from forward pass (necessary)\n",
    "  a = M.a.output\n",
    "  b = M.b.output\n",
    "  \n",
    "  with f(M.b.output).backward():\n",
    "      grads = b.grad ## GET\n",
    "      a.grad = grads ## SET\n",
    "```\n",
    "\n",
    "(Note, for this to work, submodule $a$ must come before submodule $b$ in the forward pass)"
   ]
  },
  {
   "cell_type": "markdown",
   "metadata": {},
   "source": [
    "### Example"
   ]
  },
  {
   "cell_type": "code",
   "execution_count": 10,
   "metadata": {},
   "outputs": [],
   "source": [
    "from nnsight import LanguageModel\n",
    "import torch\n",
    "\n",
    "model = LanguageModel(\"openai-community/gpt2\", device_map=\"auto\")\n",
    "\n",
    "with model.trace(\"Hello World\") as tracer:\n",
    "\n",
    "    a = model.transformer.h[-2].output[0]\n",
    "    b = model.transformer.h[-1].output[0]\n",
    "    \n",
    "    with model.output.logits.sum().backward():\n",
    "        b_grad = b.grad.save()\n",
    "        a.grad = b_grad"
   ]
  },
  {
   "cell_type": "code",
   "execution_count": 11,
   "metadata": {},
   "outputs": [
    {
     "name": "stdout",
     "output_type": "stream",
     "text": [
      "tensor([[[  28.7976, -282.5977,  868.7343,  ...,  120.1742,   52.2263,\n",
      "           168.6448],\n",
      "         [  79.4182, -253.6227, 1322.1293,  ...,  208.3982,  -19.5545,\n",
      "           509.9859]]], device='cuda:0')\n"
     ]
    }
   ],
   "source": [
    "print(b_grad)"
   ]
  },
  {
   "cell_type": "markdown",
   "metadata": {},
   "source": [
    "\n",
    "\n",
    "In order to use multiple `.backward()` contexts in a single trace context, each subsequent `.backward()` requires the keyword argument `retain_graph=True` set."
   ]
  },
  {
   "cell_type": "code",
   "execution_count": null,
   "metadata": {},
   "outputs": [],
   "source": []
  }
 ],
 "metadata": {
  "kernelspec": {
   "display_name": "Python 3 (ipykernel)",
   "language": "python",
   "name": "python3"
  },
  "language_info": {
   "codemirror_mode": {
    "name": "ipython",
    "version": 3
   },
   "file_extension": ".py",
   "mimetype": "text/x-python",
   "name": "python",
   "nbconvert_exporter": "python",
   "pygments_lexer": "ipython3",
   "version": "3.10.17"
  }
 },
 "nbformat": 4,
 "nbformat_minor": 4
}
